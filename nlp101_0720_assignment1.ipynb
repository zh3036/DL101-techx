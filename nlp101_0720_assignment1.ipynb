{
  "nbformat": 4,
  "nbformat_minor": 0,
  "metadata": {
    "colab": {
      "name": "nlp101_0720_assignment1.ipynb",
      "version": "0.3.2",
      "provenance": [],
      "collapsed_sections": [],
      "include_colab_link": true
    },
    "kernelspec": {
      "name": "python3",
      "display_name": "Python 3"
    }
  },
  "cells": [
    {
      "cell_type": "markdown",
      "metadata": {
        "id": "view-in-github",
        "colab_type": "text"
      },
      "source": [
        "<a href=\"https://colab.research.google.com/github/zh3036/DL101-techx/blob/master/nlp101_0720_assignment1.ipynb\" target=\"_parent\"><img src=\"https://colab.research.google.com/assets/colab-badge.svg\" alt=\"Open In Colab\"/></a>"
      ]
    },
    {
      "cell_type": "markdown",
      "metadata": {
        "id": "9BVV6fNzBcNn",
        "colab_type": "text"
      },
      "source": [
        "这个文档目前已经有的代码你都可以不用动 这些代码用来生成数据"
      ]
    },
    {
      "cell_type": "code",
      "metadata": {
        "id": "i8Bco0k16wiY",
        "colab_type": "code",
        "colab": {}
      },
      "source": [
        "\n",
        "%matplotlib inline"
      ],
      "execution_count": 0,
      "outputs": []
    },
    {
      "cell_type": "code",
      "metadata": {
        "id": "8gNzBEO_7W8b",
        "colab_type": "code",
        "colab": {}
      },
      "source": [
        "import matplotlib.pyplot as plt\n",
        "from matplotlib.colors import ListedColormap  \n",
        "from numpy import *\n",
        "import numpy as np"
      ],
      "execution_count": 0,
      "outputs": []
    },
    {
      "cell_type": "code",
      "metadata": {
        "id": "4LTLu9UQ7uN2",
        "colab_type": "code",
        "colab": {}
      },
      "source": [
        "from sklearn.model_selection import train_test_split"
      ],
      "execution_count": 0,
      "outputs": []
    },
    {
      "cell_type": "code",
      "metadata": {
        "id": "AFmyT43f7hSq",
        "colab_type": "code",
        "colab": {
          "base_uri": "https://localhost:8080/",
          "height": 286
        },
        "outputId": "3732a804-7873-4fc5-8a7f-7b4e2e903e5b"
      },
      "source": [
        "\n",
        "fig = plt.figure() \n",
        "axes = fig.add_subplot(111)\n",
        "#然后填充显示阿基米德螺线所需要的数据：\n",
        "N = 5\n",
        "Step =50\n",
        "thetax = np.arange(0,N * np.pi,np.pi/Step)\n",
        "r1 =10*(1+thetax)\n",
        "x1 = r1 * np.cos(thetax)\n",
        "y1 = r1 * np.sin(thetax)\n",
        "x1 = x1.reshape(-1,1)\n",
        "y1 = y1.reshape(-1,1)\n",
        "data1 = np.hstack([x1,y1])\n",
        "plt.scatter(data1[:, 0], data1[:, 1])\n"
      ],
      "execution_count": 16,
      "outputs": [
        {
          "output_type": "execute_result",
          "data": {
            "text/plain": [
              "<matplotlib.collections.PathCollection at 0x7f6509afb7f0>"
            ]
          },
          "metadata": {
            "tags": []
          },
          "execution_count": 16
        },
        {
          "output_type": "display_data",
          "data": {
            "image/png": "[encoded data removed]",
            "text/plain": [
              "<Figure size 432x288 with 1 Axes>"
            ]
          },
          "metadata": {
            "tags": []
          }
        }
      ]
    },
    {
      "cell_type": "code",
      "metadata": {
        "id": "uk6yAN3A7neu",
        "colab_type": "code",
        "colab": {
          "base_uri": "https://localhost:8080/",
          "height": 286
        },
        "outputId": "d0c98e34-1f62-488c-927f-a0180a73c2c2"
      },
      "source": [
        "\n",
        "x2 = r1 * np.cos(10+thetax)\n",
        "y2 = r1 * np.sin(10+thetax)\n",
        "x2 = x2.reshape(-1,1)\n",
        "y2 = y2.reshape(-1,1)\n",
        "data2 = np.hstack([x2,y2])\n",
        "plt.scatter(data2[:,0], data2[:,1])\n",
        "\n"
      ],
      "execution_count": 17,
      "outputs": [
        {
          "output_type": "execute_result",
          "data": {
            "text/plain": [
              "<matplotlib.collections.PathCollection at 0x7f6509ada0f0>"
            ]
          },
          "metadata": {
            "tags": []
          },
          "execution_count": 17
        },
        {
          "output_type": "display_data",
          "data": {
            "image/png": "[encoded data removed]",
            "text/plain": [
              "<Figure size 432x288 with 1 Axes>"
            ]
          },
          "metadata": {
            "tags": []
          }
        }
      ]
    },
    {
      "cell_type": "code",
      "metadata": {
        "id": "NZniq1f78u18",
        "colab_type": "code",
        "colab": {
          "base_uri": "https://localhost:8080/",
          "height": 286
        },
        "outputId": "84fd290f-5982-44b4-b33c-0e94d6de306a"
      },
      "source": [
        "\n",
        "plt.scatter(data1[:,0],data1[:,1])\n",
        "plt.scatter(data2[:,0],data2[:,1])"
      ],
      "execution_count": 18,
      "outputs": [
        {
          "output_type": "execute_result",
          "data": {
            "text/plain": [
              "<matplotlib.collections.PathCollection at 0x7f6509aaf9e8>"
            ]
          },
          "metadata": {
            "tags": []
          },
          "execution_count": 18
        },
        {
          "output_type": "display_data",
          "data": {
            "image/png": "[encoded data removed]",
            "text/plain": [
              "<Figure size 432x288 with 1 Axes>"
            ]
          },
          "metadata": {
            "tags": []
          }
        }
      ]
    },
    {
      "cell_type": "code",
      "metadata": {
        "id": "Zu0caRJd7p4c",
        "colab_type": "code",
        "colab": {
          "base_uri": "https://localhost:8080/",
          "height": 34
        },
        "outputId": "dd03888e-94a2-4ecf-b4f7-edc78d9600fb"
      },
      "source": [
        "\n",
        "data = np.vstack([data1,data2])\n",
        "print(len(data))\n",
        "\n",
        "label = list(ones(N*Step))+list(0*ones(N*Step)) \n",
        "label = array(label)\n",
        "\n",
        "x_train,x_test,y_train,y_test = train_test_split(data,label,test_size=0.3,random_state=0)\n"
      ],
      "execution_count": 19,
      "outputs": [
        {
          "output_type": "stream",
          "text": [
            "500\n"
          ],
          "name": "stdout"
        }
      ]
    },
    {
      "cell_type": "markdown",
      "metadata": {
        "id": "g4VtoOuqBoKn",
        "colab_type": "text"
      },
      "source": [
        "这里比较重要的变量，应该也是你唯一需要用到的4个变量 就是 x_train, y_train, x_test, y_test \n",
        "\n",
        "你需要做的事情\n",
        "1. define 一个model（以及他的forward）\n",
        "2. define 一个loss function\n",
        "3. define 一个optimizer\n",
        "\n",
        "4. 随机初始化model的参数\n",
        "5.compute loss over 目前的xtrain和ytrain\n",
        "6. 求对参数的导数\n",
        "7. 改变参数\n",
        "8. 回到5 ，untill loss变的很小 accuracy 变得很高\n"
      ]
    },
    {
      "cell_type": "markdown",
      "metadata": {
        "id": "-alSCErRLfPv",
        "colab_type": "text"
      },
      "source": [
        "https://pytorch.org/tutorials/beginner/blitz/neural_networks_tutorial.html#sphx-glr-beginner-blitz-neural-networks-tutorial-py\n",
        "\n",
        "这个链接里的代码删减+修改几个数字之后应该可以完成本次的任务"
      ]
    },
    {
      "cell_type": "code",
      "metadata": {
        "id": "qpnx477Q7riT",
        "colab_type": "code",
        "colab": {}
      },
      "source": [
        ""
      ],
      "execution_count": 0,
      "outputs": []
    }
  ]
}